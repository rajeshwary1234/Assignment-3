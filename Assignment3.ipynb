{
  "nbformat": 4,
  "nbformat_minor": 0,
  "metadata": {
    "colab": {
      "provenance": []
    },
    "kernelspec": {
      "name": "python3",
      "display_name": "Python 3"
    },
    "language_info": {
      "name": "python"
    }
  },
  "cells": [
    {
      "cell_type": "markdown",
      "source": [
        "#Theory Questions:\n",
        "\n",
        "1. What is the difference between a function and a method in Python?\n",
        " - In Python, a function is a block of reusable code defined using def and can be called independently, while a method is a function that is associated with an object and is called on that object (e.g., my_list.append(1)).\n",
        "\n",
        " 2. Explain the concept of function arguments and parameters in Python.\n",
        "  - In Python:\n",
        " - Parameters are the variable names listed in a function’s definition (e.g., def greet(name): — name is a parameter).\n",
        " - Arguments are the actual values passed to the function when it is called (e.g., greet(\"Alice\") — \"Alice\" is the argument).\n",
        " - Parameters act as placeholders for the arguments provided during a function call.\n",
        "\n",
        " 3. What are the different ways to define and call a function in Python?\n",
        "  - In Python, functions can be defined using:\n",
        "  def keyword – standard way to define a function.\n",
        "  - Positional arguments: add(2, 3)\n",
        "  - Keyword arguments: add(a=2, b=3)\n",
        "  - Default arguments (when some parameters have default values)\n",
        "  - Variable-length arguments using *args and **kwargs for flexibility.\n",
        "\n",
        " 4. What is the purpose of the `return` statement in a Python function?\n",
        "  - The return statement in a Python function is used to send a value back to the caller, ending the function's execution. It allows the function to produce an output that can be stored or used elsewhere in the program.\n",
        "   \n",
        " 5. What are iterators in Python and how do they differ from iterables?\n",
        "  - In Python:\n",
        "  -An iterable is any object that can be looped over (e.g., lists, tuples, strings) and implements the __iter__() method.\n",
        "  -An iterator is an object that represents a stream of data and implements both __iter__() and __next__() methods.\n",
        "  -Difference: Iterables can be converted to iterators using iter(), while iterators can fetch items one at a time using next().\n",
        "\n",
        " 6. Explain the concept of generators in Python and how they are defined.\n",
        "  - Generators in Python are special iterators that yield values one at a time using the yield keyword, allowing efficient memory usage. They are defined like regular functions but use yield instead of return.\n",
        "Example:\n",
        "def count_up_to(n):\n",
        "    for i in range(n):\n",
        "        yield i\n",
        "\n",
        " 7. What are the advantages of using generators over regular functions?\n",
        "  - Generators have these advantages over regular functions:\n",
        "\n",
        "  - Memory efficient: They yield items one at a time, avoiding storing the entire sequence in memory.\n",
        "  - Lazy evaluation: Values are produced only when needed, which is ideal for large datasets or infinite sequences.\n",
        "  - Cleaner code: Simplify writing iterators using yield instead of managing __iter__() and __next__() manually.\n",
        "\n",
        " 8. What is a lambda function in Python and when is it typically used?\n",
        "  - A lambda function in Python is a small, anonymous function defined using the lambda keyword. It is typically used for short, simple operations, especially as arguments to higher-order functions like map(), filter(), or sorted().\n",
        "  - Example: lambda x: x * 2 returns x multiplied by 2.\n",
        "\n",
        " 9. Explain the purpose and usage of the `map()` function in Python.\n",
        "  - The map() function in Python applies a given function to every item in an iterable (like a list) and returns a map object (an iterator) with the results.\n",
        "  Usage example:\n",
        "  nums = [1, 2, 3]\n",
        "squared = map(lambda x: x**2, nums)\n",
        "print(list(squared))  # Output: [1, 4, 9]\n",
        "\n",
        " 10. What is the difference between `map()`, `reduce()`, and `filter()` functions in Python?\n",
        "  - map(): Applies a function to each item in an iterable and returns a new iterable with the results.\n",
        "  - filter(): Applies a function that returns True or False to each item, keeping only the items where the function returns True.\n",
        "  - reduce() (from functools): Applies a function cumulatively to the items, reducing the iterable to a single value.\n",
        "  - Each serves a different purpose: transformation (map), selection (filter), and aggregation (reduce).\n",
        "\n",
        " 11. Using pen & Paper write the internal mechanism for sum operation using  reduce function on this given\n",
        " list:[47,11,42,13];\n",
        "  - To demonstrate the internal mechanism of the reduce() function performing a sum operation on the list [47, 11, 42, 13], let's break it down step by step.\n",
        "  from functools import reduce\n",
        "numbers = [47, 11, 42, 13]\n",
        "result = reduce(lambda x, y: x + y, numbers)\n"
      ],
      "metadata": {
        "id": "DiglKUIElJWv"
      }
    },
    {
      "cell_type": "code",
      "execution_count": 5,
      "metadata": {
        "colab": {
          "base_uri": "https://localhost:8080/"
        },
        "id": "oGUIIYdvlHOW",
        "outputId": "8b5f9927-c227-4e4a-d0b5-f5ad9f9d824d"
      },
      "outputs": [
        {
          "output_type": "stream",
          "name": "stdout",
          "text": [
            "Sum of even numbers: 30\n"
          ]
        }
      ],
      "source": [
        "#Practical Questions:\n",
        "\n",
        "#1. Write a Python function that takes a list of numbers as input and returns the sum of all even numbers in the list.\n",
        "def sum_even_numbers(numbers):\n",
        "    total = 0\n",
        "    for num in numbers:\n",
        "        if num % 2 == 0:\n",
        "            total += num\n",
        "    return total\n",
        "my_list = [4, 7, 10, 13, 16]\n",
        "result = sum_even_numbers(my_list)\n",
        "print(\"Sum of even numbers:\", result)"
      ]
    },
    {
      "cell_type": "code",
      "source": [
        "#2. Create a Python function that accepts a string and returns the reverse of that string.\n",
        "\n",
        "def reverse_string(s):\n",
        "    return s[::-1]\n",
        "text = \"hello\"\n",
        "reversed_text = reverse_string(text)\n",
        "print(\"Reversed string:\", reversed_text)"
      ],
      "metadata": {
        "colab": {
          "base_uri": "https://localhost:8080/"
        },
        "id": "6WiHzII80C8t",
        "outputId": "28298556-e2cf-44ec-ba03-e0ffd00c858e"
      },
      "execution_count": 6,
      "outputs": [
        {
          "output_type": "stream",
          "name": "stdout",
          "text": [
            "Reversed string: olleh\n"
          ]
        }
      ]
    },
    {
      "cell_type": "code",
      "source": [
        "#3. Implement a Python function that takes a list of integers and returns a new list containing the squares of each number.\n",
        "def square_numbers(numbers):\n",
        "    return [num ** 2 for num in numbers]\n",
        "my_list = [1, 2, 3, 4, 5]\n",
        "squared_list = square_numbers(my_list)\n",
        "print(\"Squared list:\", squared_list)"
      ],
      "metadata": {
        "colab": {
          "base_uri": "https://localhost:8080/"
        },
        "id": "2vCUZhHF0mr1",
        "outputId": "16cda2ee-4fde-454a-e20b-80b4e88577c3"
      },
      "execution_count": 7,
      "outputs": [
        {
          "output_type": "stream",
          "name": "stdout",
          "text": [
            "Squared list: [1, 4, 9, 16, 25]\n"
          ]
        }
      ]
    },
    {
      "cell_type": "code",
      "source": [
        "#4. Write a Python function that checks if a given number is prime or not from 1 to 200.\n",
        "def is_prime(n):\n",
        "    if n <= 1:\n",
        "        return False\n",
        "    for i in range(2, int(n**0.5) + 1):\n",
        "        if n % i == 0:\n",
        "            return False\n",
        "    return True\n",
        "for num in range(1, 201):\n",
        "    if is_prime(num):\n",
        "        print(f\"{num} is a prime number.\")\n"
      ],
      "metadata": {
        "colab": {
          "base_uri": "https://localhost:8080/"
        },
        "id": "kmKkoX-P05F8",
        "outputId": "c5c12b96-14a2-4ec3-fe27-ceeb5e0db3d4"
      },
      "execution_count": 11,
      "outputs": [
        {
          "output_type": "stream",
          "name": "stdout",
          "text": [
            "2 is a prime number.\n",
            "3 is a prime number.\n",
            "5 is a prime number.\n",
            "7 is a prime number.\n",
            "11 is a prime number.\n",
            "13 is a prime number.\n",
            "17 is a prime number.\n",
            "19 is a prime number.\n",
            "23 is a prime number.\n",
            "29 is a prime number.\n",
            "31 is a prime number.\n",
            "37 is a prime number.\n",
            "41 is a prime number.\n",
            "43 is a prime number.\n",
            "47 is a prime number.\n",
            "53 is a prime number.\n",
            "59 is a prime number.\n",
            "61 is a prime number.\n",
            "67 is a prime number.\n",
            "71 is a prime number.\n",
            "73 is a prime number.\n",
            "79 is a prime number.\n",
            "83 is a prime number.\n",
            "89 is a prime number.\n",
            "97 is a prime number.\n",
            "101 is a prime number.\n",
            "103 is a prime number.\n",
            "107 is a prime number.\n",
            "109 is a prime number.\n",
            "113 is a prime number.\n",
            "127 is a prime number.\n",
            "131 is a prime number.\n",
            "137 is a prime number.\n",
            "139 is a prime number.\n",
            "149 is a prime number.\n",
            "151 is a prime number.\n",
            "157 is a prime number.\n",
            "163 is a prime number.\n",
            "167 is a prime number.\n",
            "173 is a prime number.\n",
            "179 is a prime number.\n",
            "181 is a prime number.\n",
            "191 is a prime number.\n",
            "193 is a prime number.\n",
            "197 is a prime number.\n",
            "199 is a prime number.\n"
          ]
        }
      ]
    },
    {
      "cell_type": "code",
      "source": [
        "#5. Create an iterator class in Python that generates the Fibonacci sequence up to a specified number of terms.\n",
        "class FibonacciIterator:\n",
        "    def __init__(self, max_terms):\n",
        "        self.max_terms = max_terms\n",
        "        self.count = 0\n",
        "        self.a = 0\n",
        "        self.b = 1\n",
        "\n",
        "    def __iter__(self):\n",
        "        return self\n",
        "\n",
        "    def __next__(self):\n",
        "        if self.count >= self.max_terms:\n",
        "            raise StopIteration\n",
        "        if self.count == 0:\n",
        "            self.count += 1\n",
        "            return self.a\n",
        "        elif self.count == 1:\n",
        "            self.count += 1\n",
        "            return self.b\n",
        "        else:\n",
        "            self.a, self.b = self.b, self.a + self.b\n",
        "            self.count += 1\n",
        "            return self.b\n",
        "fib = FibonacciIterator(10)\n",
        "for num in fib:\n",
        "    print(num)\n"
      ],
      "metadata": {
        "colab": {
          "base_uri": "https://localhost:8080/"
        },
        "id": "hd9K5yBP1tS8",
        "outputId": "b964e42f-4c52-418c-a719-0fc37f77f70e"
      },
      "execution_count": 12,
      "outputs": [
        {
          "output_type": "stream",
          "name": "stdout",
          "text": [
            "0\n",
            "1\n",
            "1\n",
            "2\n",
            "3\n",
            "5\n",
            "8\n",
            "13\n",
            "21\n",
            "34\n"
          ]
        }
      ]
    },
    {
      "cell_type": "code",
      "source": [
        "#6. Write a generator function in Python that yields the powers of 2 up to a given exponent.\n",
        "def powers_of_two(max_exp):\n",
        "    for exp in range(max_exp + 1):\n",
        "        yield 2 ** exp\n",
        "for power in powers_of_two(5):\n",
        "    print(power)"
      ],
      "metadata": {
        "colab": {
          "base_uri": "https://localhost:8080/"
        },
        "id": "FP4rqmkx2BUj",
        "outputId": "08cbba63-6e78-4932-9c7d-2f3add52ea53"
      },
      "execution_count": 13,
      "outputs": [
        {
          "output_type": "stream",
          "name": "stdout",
          "text": [
            "1\n",
            "2\n",
            "4\n",
            "8\n",
            "16\n",
            "32\n"
          ]
        }
      ]
    },
    {
      "cell_type": "code",
      "source": [
        "#7. Implement a generator function that reads a file line by line and yields each line as a string.\n",
        "\n",
        "def read_file_line_by_line(filename):\n",
        "    try:\n",
        "        with open(filename, 'r') as file:\n",
        "            for line in file:\n",
        "                yield line.rstrip('\\n')  # Remove trailing newline character\n",
        "    except FileNotFoundError:\n",
        "        print(f\"Error: File '{filename}' not found.\")\n"
      ],
      "metadata": {
        "id": "JwxakNdD2R6S"
      },
      "execution_count": 20,
      "outputs": []
    },
    {
      "cell_type": "code",
      "source": [
        "#8. Use a lambda function in Python to sort a list of tuples based on the second element of each tuple.\n",
        "data = [(1, 4), (3, 1), (5, 2), (2, 3)]\n",
        "sorted_data = sorted(data, key=lambda x: x[1])\n",
        "print(sorted_data)\n"
      ],
      "metadata": {
        "colab": {
          "base_uri": "https://localhost:8080/"
        },
        "id": "6aSM9La53b7Z",
        "outputId": "d7e89c05-d238-4f6d-f0a2-5cf6ff0aea09"
      },
      "execution_count": 21,
      "outputs": [
        {
          "output_type": "stream",
          "name": "stdout",
          "text": [
            "[(3, 1), (5, 2), (2, 3), (1, 4)]\n"
          ]
        }
      ]
    },
    {
      "cell_type": "code",
      "source": [
        "#9. Write a Python program that uses `map()` to convert a list of temperatures from Celsius to Fahrenheit.\n",
        "# List of temperatures in Celsius\n",
        "celsius_temperatures = [0, 20, 25, 30, 35]\n",
        "\n",
        "# Function to convert Celsius to Fahrenheit\n",
        "def celsius_to_fahrenheit(celsius):\n",
        "    return (celsius * 9/5) + 32\n",
        "\n",
        "# Use map() to apply the conversion function to the list\n",
        "fahrenheit_temperatures = list(map(celsius_to_fahrenheit, celsius_temperatures))\n",
        "\n",
        "# Print the converted list\n",
        "print(fahrenheit_temperatures)\n"
      ],
      "metadata": {
        "colab": {
          "base_uri": "https://localhost:8080/"
        },
        "id": "gYW7KyKT3pUw",
        "outputId": "d193abac-9ea4-40c0-9ace-89af9d5a35f8"
      },
      "execution_count": 22,
      "outputs": [
        {
          "output_type": "stream",
          "name": "stdout",
          "text": [
            "[32.0, 68.0, 77.0, 86.0, 95.0]\n"
          ]
        }
      ]
    },
    {
      "cell_type": "code",
      "source": [
        "#10. Create a Python program that uses `filter()` to remove all the vowels from a given string.\n",
        "# Function to check if a character is not a vowel\n",
        "def is_not_vowel(char):\n",
        "    return char.lower() not in 'aeiou'\n",
        "input_string = \"Hello World!\"\n",
        "\n",
        "filtered_string = ''.join(filter(is_not_vowel, input_string))\n",
        "\n",
        "print(filtered_string)\n"
      ],
      "metadata": {
        "colab": {
          "base_uri": "https://localhost:8080/"
        },
        "id": "BnrLXRW-31-I",
        "outputId": "07421f18-9a28-4992-ff2d-dcf303a41745"
      },
      "execution_count": 24,
      "outputs": [
        {
          "output_type": "stream",
          "name": "stdout",
          "text": [
            "Hll Wrld!\n"
          ]
        }
      ]
    },
    {
      "cell_type": "code",
      "source": [
        "#11. Write a Python program, which returns a list with 2-tuples. Each tuple consists of the order number and\n",
        "# the product of the price per item and the quantity. The product should be increased by 10,- € if the value of the\n",
        "#order is smaller than 100,00 €.\n",
        "#Write a Python program using lambda and map.\n",
        "# List of orders with (order_number, price_per_item, quantity)\n",
        "orders = [\n",
        "    (1, 15.0, 5),    # Order 1: 15.0 * 5 = 75.0\n",
        "    (2, 40.0, 2),    # Order 2: 40.0 * 2 = 80.0\n",
        "    (3, 30.0, 4),    # Order 3: 30.0 * 4 = 120.0\n",
        "    (4, 10.0, 7),    # Order 4: 10.0 * 7 = 70.0\n",
        "]\n",
        "\n",
        "# Function to calculate the adjusted price\n",
        "def calculate_price(order):\n",
        "    order_number, price_per_item, quantity = order\n",
        "    total = price_per_item * quantity\n",
        "    if total < 100:\n",
        "        total += 10  # Add 10 if total is smaller than 100\n",
        "    return (order_number, total)\n",
        "\n",
        "# Using map and lambda to apply the calculation to each order\n",
        "result = list(map(lambda order: (order[0], (order[1] * order[2] + 10) if order[1] * order[2] < 100 else order[1] * order[2]), orders))\n",
        "\n",
        "# Print the result\n",
        "print(result)\n",
        "\n"
      ],
      "metadata": {
        "colab": {
          "base_uri": "https://localhost:8080/"
        },
        "id": "A4GwIPIq4cmw",
        "outputId": "48d15438-1e26-4e68-c48c-6cbd763b3725"
      },
      "execution_count": 25,
      "outputs": [
        {
          "output_type": "stream",
          "name": "stdout",
          "text": [
            "[(1, 85.0), (2, 90.0), (3, 120.0), (4, 80.0)]\n"
          ]
        }
      ]
    }
  ]
}